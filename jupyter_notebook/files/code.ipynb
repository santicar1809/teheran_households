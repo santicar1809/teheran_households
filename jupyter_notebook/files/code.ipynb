{
 "cells": [
  {
   "cell_type": "code",
   "execution_count": 75,
   "metadata": {},
   "outputs": [],
   "source": [
    "import pandas as pd\n",
    "df = pd.read_csv('TehranHouse.csv')\n"
   ]
  },
  {
   "cell_type": "code",
   "execution_count": 76,
   "metadata": {},
   "outputs": [
    {
     "data": {
      "text/plain": [
       "208"
      ]
     },
     "execution_count": 76,
     "metadata": {},
     "output_type": "execute_result"
    }
   ],
   "source": [
    "df.duplicated().sum()"
   ]
  },
  {
   "cell_type": "code",
   "execution_count": 77,
   "metadata": {},
   "outputs": [
    {
     "name": "stdout",
     "output_type": "stream",
     "text": [
      "<class 'pandas.core.frame.DataFrame'>\n",
      "RangeIndex: 3479 entries, 0 to 3478\n",
      "Data columns (total 8 columns):\n",
      " #   Column      Non-Null Count  Dtype  \n",
      "---  ------      --------------  -----  \n",
      " 0   Area        3479 non-null   object \n",
      " 1   Room        3479 non-null   int64  \n",
      " 2   Parking     3479 non-null   bool   \n",
      " 3   Warehouse   3479 non-null   bool   \n",
      " 4   Elevator    3479 non-null   bool   \n",
      " 5   Address     3456 non-null   object \n",
      " 6   Price       3479 non-null   float64\n",
      " 7   Price(USD)  3479 non-null   float64\n",
      "dtypes: bool(3), float64(2), int64(1), object(2)\n",
      "memory usage: 146.2+ KB\n"
     ]
    }
   ],
   "source": [
    "df.info()"
   ]
  },
  {
   "cell_type": "code",
   "execution_count": 78,
   "metadata": {},
   "outputs": [
    {
     "name": "stdout",
     "output_type": "stream",
     "text": [
      "Index(['area', 'room', 'parking', 'warehouse', 'elevator', 'address', 'price',\n",
      "       'price(usd)'],\n",
      "      dtype='object')\n",
      "Dataframe created at route: ./files/datasets/intermediate/preprocessed_data.csv \n"
     ]
    }
   ],
   "source": [
    "import pandas as pd\n",
    "import os\n",
    "import re\n",
    "import numpy as np\n",
    "\n",
    "data=df\n",
    "\n",
    "def to_snake_case(name):\n",
    "    s1 = re.sub('(.)([A-Z][a-z]+)', r'\\1_\\2', name)\n",
    "    s1 = s1.replace(' ','_')\n",
    "    return re.sub('([a-z0-9])([A-Z])', r'\\1_\\2', s1).lower()\n",
    "\n",
    "def columns_transformer(data):\n",
    "    #Pasamos las columnas al modo snake_case\n",
    "    columns=data.columns\n",
    "    new_cols=[]\n",
    "    for i in columns:\n",
    "        i=to_snake_case(i)\n",
    "        new_cols.append(i)\n",
    "    data.columns=new_cols\n",
    "    print(data.columns)\n",
    "    return data\n",
    "    \n",
    "data = columns_transformer(data)\n",
    "data['area'] = data['area'].str.replace(',', '', regex=False)\n",
    "#Pasamos la columna Area a numeric\n",
    "data['area'] = pd.to_numeric(data['area'])\n",
    "data=data.drop(['address'],axis=1)\n",
    "data.drop_duplicates(inplace=True)\n",
    "# Preprocesing merged dataset\n",
    "\n",
    "path = './files/datasets/intermediate/'\n",
    "if not os.path.exists(path):\n",
    "    os.makedirs(path)\n",
    "data.to_csv(path+'preprocessed_data.csv', index=False)\n",
    "print(f'Dataframe created at route: {path}preprocessed_data.csv ')\n"
   ]
  },
  {
   "cell_type": "code",
   "execution_count": 79,
   "metadata": {},
   "outputs": [
    {
     "name": "stdout",
     "output_type": "stream",
     "text": [
      "<class 'pandas.core.frame.DataFrame'>\n",
      "Index: 3271 entries, 0 to 3478\n",
      "Data columns (total 7 columns):\n",
      " #   Column      Non-Null Count  Dtype  \n",
      "---  ------      --------------  -----  \n",
      " 0   area        3271 non-null   int64  \n",
      " 1   room        3271 non-null   int64  \n",
      " 2   parking     3271 non-null   bool   \n",
      " 3   warehouse   3271 non-null   bool   \n",
      " 4   elevator    3271 non-null   bool   \n",
      " 5   price       3271 non-null   float64\n",
      " 6   price(usd)  3271 non-null   float64\n",
      "dtypes: bool(3), float64(2), int64(2)\n",
      "memory usage: 137.4 KB\n"
     ]
    }
   ],
   "source": [
    "data.info()"
   ]
  },
  {
   "cell_type": "code",
   "execution_count": 80,
   "metadata": {},
   "outputs": [
    {
     "data": {
      "text/plain": [
       "210"
      ]
     },
     "execution_count": 80,
     "metadata": {},
     "output_type": "execute_result"
    }
   ],
   "source": [
    "data.duplicated().sum()"
   ]
  },
  {
   "cell_type": "code",
   "execution_count": 81,
   "metadata": {},
   "outputs": [],
   "source": [
    "data.drop_duplicates(inplace=True)"
   ]
  },
  {
   "cell_type": "code",
   "execution_count": 82,
   "metadata": {},
   "outputs": [
    {
     "data": {
      "text/plain": [
       "0"
      ]
     },
     "execution_count": 82,
     "metadata": {},
     "output_type": "execute_result"
    }
   ],
   "source": [
    "data.duplicated().sum()"
   ]
  },
  {
   "cell_type": "code",
   "execution_count": 83,
   "metadata": {},
   "outputs": [
    {
     "name": "stdout",
     "output_type": "stream",
     "text": [
      "<class 'pandas.core.frame.DataFrame'>\n",
      "Index: 3061 entries, 0 to 3478\n",
      "Data columns (total 7 columns):\n",
      " #   Column      Non-Null Count  Dtype  \n",
      "---  ------      --------------  -----  \n",
      " 0   area        3061 non-null   int64  \n",
      " 1   room        3061 non-null   int64  \n",
      " 2   parking     3061 non-null   bool   \n",
      " 3   warehouse   3061 non-null   bool   \n",
      " 4   elevator    3061 non-null   bool   \n",
      " 5   price       3061 non-null   float64\n",
      " 6   price(usd)  3061 non-null   float64\n",
      "dtypes: bool(3), float64(2), int64(2)\n",
      "memory usage: 128.5 KB\n"
     ]
    }
   ],
   "source": [
    "data.info()"
   ]
  }
 ],
 "metadata": {
  "kernelspec": {
   "display_name": "Python 3",
   "language": "python",
   "name": "python3"
  },
  "language_info": {
   "codemirror_mode": {
    "name": "ipython",
    "version": 3
   },
   "file_extension": ".py",
   "mimetype": "text/x-python",
   "name": "python",
   "nbconvert_exporter": "python",
   "pygments_lexer": "ipython3",
   "version": "3.12.0"
  }
 },
 "nbformat": 4,
 "nbformat_minor": 2
}
